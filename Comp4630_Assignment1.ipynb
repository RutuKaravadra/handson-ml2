{
  "cells": [
    {
      "cell_type": "markdown",
      "metadata": {
        "id": "view-in-github",
        "colab_type": "text"
      },
      "source": [
        "<a href=\"https://colab.research.google.com/github/RutuKaravadra/handson-ml2/blob/master/Comp4630_Assignment1.ipynb\" target=\"_parent\"><img src=\"https://colab.research.google.com/assets/colab-badge.svg\" alt=\"Open In Colab\"/></a>"
      ]
    },
    {
      "cell_type": "markdown",
      "metadata": {
        "id": "lELAEkh07WhA"
      },
      "source": [
        "Name(s): Rutu Karavadra, Timothy Meneses, Emily Allerdings"
      ]
    },
    {
      "cell_type": "markdown",
      "metadata": {
        "id": "kLJ6Ry43mEp7"
      },
      "source": [
        "# INSTRUCTIONS\n"
      ]
    },
    {
      "cell_type": "markdown",
      "source": [],
      "metadata": {
        "id": "RvtD2-v_gajX"
      }
    },
    {
      "cell_type": "markdown",
      "metadata": {
        "id": "saLm_8R3C5Ah"
      },
      "source": [
        "\n",
        "**Model Training** - The purpose of this assignment is to apply your knowledge of machine learning to **two** different datasets. For each dataset, you will train **at least two** algorithms to achieve a reasonable performance. You may use trial and error process or search strategies (Grid, Randomized) to fine-tune your algorithms. If you are making any choice or trade-off, briefly document it in your code. Documentations should be added as a text cell to your notebook.\n",
        "\n",
        "**Presentation** - From the all algorithms you use as a blackbox for your assignment, pick **one** algorithm, and study it in detail. The goal here is to understand how this algorithm works behind the scene. Based on your undrestanding of the algorithm, prepare a set of presentation slides for a 15 min presentation. The time of presentations will be after your submission date.\n",
        "\n",
        "**Reflection** - Finally, add your contribution statement and self assessment to your notebook. \n"
      ]
    },
    {
      "cell_type": "markdown",
      "metadata": {
        "id": "pq4HiMi0C2gl"
      },
      "source": [
        "## Algorithm to Present\n",
        "To keep the topic of the presentations (the algorithm of your choice) distinct from others, you can enter the algorithm of your choice in [this shared file](https://docs.google.com/spreadsheets/d/1UXCIFQdzxBL7VbhmJEQH8tNv_MewQ_sTQlRWh6ZWUWY/edit?usp=sharing) so others know which algorithms are already chosen for presentation. There is a list of suggested algorithms that you can choose from. Most of the suggested algorithms have a classifier and also a regressor variation, e.g., we have a Decision Tree Classifier and a Decision Tree Regressor. Your presentation can be based on the classifier or regressor algorithm."
      ]
    },
    {
      "cell_type": "markdown",
      "metadata": {
        "id": "6TpoYMF1Cztc"
      },
      "source": [
        "## Teamwork\n",
        "Students should complete the assignment in groups of 3 people. One submission per group is sufficient.\n"
      ]
    },
    {
      "cell_type": "markdown",
      "metadata": {
        "id": "TwPzO23JCw9b"
      },
      "source": [
        "## Submission\n",
        "A copy of your notebook and also your presentation files should be submitted through your course website. All of your code and documentation should be included in the Colab notebook; additional documentation is not required. Make sure to incude all necessary library installations and imports in your notebook. The submitted assignments will be reviewed on Google Colab. You may upload your code to Google Drive and test it on Colab before your submission.\n",
        "\n",
        "If you use an external resource such as a published paper or a tutorial website as a guide, **cite the resource** by including a link in your Markdown cell."
      ]
    },
    {
      "cell_type": "markdown",
      "metadata": {
        "id": "lNbAmbJ3tgLq"
      },
      "source": [
        "# EMNIST DATASET"
      ]
    },
    {
      "cell_type": "markdown",
      "metadata": {
        "id": "fys0RNOPg77r"
      },
      "source": [
        "The Extended MNIST dataset (EMNIST), like the Fashion MNIST and MNIST datasets that you have been working with, is a set of 28x28 pixel images. EMNIST extends on the characters 0-9 by adding in handwritten uppercase and lowercase letters. In particular, you will be working with the Balanced EMNIST dataset, which has a balanced class distribution. \n",
        "\n",
        "A total of 47 classes are used to represent the digits 0-9, uppercase letters A-Z, and lowercase letters a-z. Due to ambiguity in handwriting, some of the letter classes (C, I, J, K, L, M, O, P, S, U, V, W, X, Y and Z) are merged so that there is just one class for both upper and lower case.\n",
        "\n",
        "\n",
        "You can read more about the EMNIST dataset [here](https://arxiv.org/pdf/1702.05373v1.pdf)."
      ]
    },
    {
      "cell_type": "markdown",
      "source": [
        "### **Models Chosen**\n",
        "\n",
        "This program will be trained under two models: the Sequential Model and the Support Vector Machine Model.\n",
        "\n",
        "The Sequential model is a linear stack of layyers and is appropriate for when each layer has one input tensor and one output tensor. \n",
        "\n",
        "Reference: https://stackoverflow.com/questions/57751417/what-is-meant-by-sequential-model-in-keras\n",
        "\n",
        "The Support Vector Machine model is ML deep learning algorithm that maps the data to a dimensional space so that they can be classified into categories despite not being linearly seperable. The points essentially help build the SVM and their position specifically if they are closer or farther to the hyperplane. \n",
        "\n",
        "Reference: https://www.ibm.com/docs/en/spss-modeler/saas?topic=models-how-svm-works"
      ],
      "metadata": {
        "id": "N7MQMAepRx-N"
      }
    },
    {
      "cell_type": "markdown",
      "source": [
        "Please also note that the data has been fully provided by: \n",
        "\n",
        "*Cohen, G., Afshar, S., Tapson, J., & van Schaik, A. (2017). EMNIST: an extension of MNIST to handwritten letters. Retrieved from http://arxiv.org/abs/1702.05373*"
      ],
      "metadata": {
        "id": "eweUXaXoTjOE"
      }
    },
    {
      "cell_type": "markdown",
      "metadata": {
        "id": "EtyU6UkAgoyg"
      },
      "source": [
        "### Install and import dependencies"
      ]
    },
    {
      "cell_type": "code",
      "execution_count": 39,
      "metadata": {
        "id": "fmqkuWmKo5uo"
      },
      "outputs": [],
      "source": [
        "import math\n",
        "import numpy as np\n",
        "import pandas as pd\n",
        "import matplotlib.pyplot as plt\n",
        "import keras\n",
        "import os\n",
        "\n",
        "from sklearn import metrics\n",
        "from sklearn import svm\n",
        "from sklearn.metrics import classification_report, confusion_matrix\n",
        "\n",
        "from keras.models import Sequential\n",
        "from keras.layers import Dense, Conv2D, MaxPool2D, Flatten, Dropout\n"
      ]
    },
    {
      "cell_type": "markdown",
      "metadata": {
        "id": "LXzPtUnV1QhT"
      },
      "source": [
        "### Download dataset"
      ]
    },
    {
      "cell_type": "code",
      "execution_count": 40,
      "metadata": {
        "colab": {
          "base_uri": "https://localhost:8080/"
        },
        "id": "o6DSTMpYEkSA",
        "outputId": "b86931e6-4c23-4250-dff4-f87cf269d47c"
      },
      "outputs": [
        {
          "output_type": "stream",
          "name": "stdout",
          "text": [
            "Looking in indexes: https://pypi.org/simple, https://us-python.pkg.dev/colab-wheels/public/simple/\n",
            "Requirement already satisfied: extra_keras_datasets in /usr/local/lib/python3.8/dist-packages (1.2.0)\n",
            "Requirement already satisfied: scikit-learn in /usr/local/lib/python3.8/dist-packages (from extra_keras_datasets) (1.0.2)\n",
            "Requirement already satisfied: pandas in /usr/local/lib/python3.8/dist-packages (from extra_keras_datasets) (1.3.5)\n",
            "Requirement already satisfied: numpy in /usr/local/lib/python3.8/dist-packages (from extra_keras_datasets) (1.21.6)\n",
            "Requirement already satisfied: scipy in /usr/local/lib/python3.8/dist-packages (from extra_keras_datasets) (1.7.3)\n",
            "Requirement already satisfied: pytz>=2017.3 in /usr/local/lib/python3.8/dist-packages (from pandas->extra_keras_datasets) (2022.7.1)\n",
            "Requirement already satisfied: python-dateutil>=2.7.3 in /usr/local/lib/python3.8/dist-packages (from pandas->extra_keras_datasets) (2.8.2)\n",
            "Requirement already satisfied: threadpoolctl>=2.0.0 in /usr/local/lib/python3.8/dist-packages (from scikit-learn->extra_keras_datasets) (3.1.0)\n",
            "Requirement already satisfied: joblib>=0.11 in /usr/local/lib/python3.8/dist-packages (from scikit-learn->extra_keras_datasets) (1.2.0)\n",
            "Requirement already satisfied: six>=1.5 in /usr/local/lib/python3.8/dist-packages (from python-dateutil>=2.7.3->pandas->extra_keras_datasets) (1.15.0)\n"
          ]
        }
      ],
      "source": [
        "!pip install -U extra_keras_datasets"
      ]
    },
    {
      "cell_type": "markdown",
      "metadata": {
        "id": "HvhyWl4W0hq_"
      },
      "source": [
        "## Get Data and Pre-process"
      ]
    },
    {
      "cell_type": "code",
      "execution_count": 41,
      "metadata": {
        "id": "wH5Nd1pG0veM"
      },
      "outputs": [],
      "source": [
        "from extra_keras_datasets import emnist"
      ]
    },
    {
      "cell_type": "markdown",
      "source": [
        "This data: X_train, y_train, X_test, y_test will be used for the sequential model.\n",
        "\n",
        "Please note the division between the train and test data has already been done therefore we will trust the proportions that they have gone with."
      ],
      "metadata": {
        "id": "4SmXuy0RRW-F"
      }
    },
    {
      "cell_type": "code",
      "execution_count": 42,
      "metadata": {
        "colab": {
          "base_uri": "https://localhost:8080/"
        },
        "id": "e6Vdh9v6Ep7x",
        "outputId": "ef3783b9-d968-436b-c1b4-d43cdd9897cc"
      },
      "outputs": [
        {
          "output_type": "stream",
          "name": "stderr",
          "text": [
            "WARNING:root:Please cite the following paper when using or referencing this Extra Keras Dataset:\n",
            "WARNING:root:Cohen, G., Afshar, S., Tapson, J., & van Schaik, A. (2017). EMNIST: an extension of MNIST to handwritten letters. Retrieved from http://arxiv.org/abs/1702.05373\n"
          ]
        }
      ],
      "source": [
        "(X_train, y_train), (X_test, y_test) = emnist.load_data(type='balanced')"
      ]
    },
    {
      "cell_type": "markdown",
      "source": [
        "This data: X_train_SVM, y_train_SVM, X_test_SVM and y_test_SVM will be used for the SVM model."
      ],
      "metadata": {
        "id": "0C2jlER0Rki3"
      }
    },
    {
      "cell_type": "code",
      "source": [
        "#(X_train_SVM, y_train_SVM), (X_test_SVM, y_test_SVM) = emnist.load_data(type='balanced')\n",
        "\n",
        "X_train_SVM = X_train\n",
        "y_train_SVM = y_train\n",
        "X_test_SVM = X_test\n",
        "y_test_SVM = y_test"
      ],
      "metadata": {
        "id": "CJ6zXAFtitOC"
      },
      "execution_count": null,
      "outputs": []
    },
    {
      "cell_type": "markdown",
      "source": [
        "## Visualize/Understand Data\n",
        "\n",
        "Please note that providers of this data have explicitly stated that the data is balanced. Therefore there is limited need to worry about oversampling, undersampling, class weights and such."
      ],
      "metadata": {
        "id": "XPml9jrsU4TB"
      }
    },
    {
      "cell_type": "code",
      "source": [
        "print('X_train: ' + str(X_train_SVM.shape))\n",
        "print('Y_train: ' + str(y_train_SVM.shape))\n",
        "print('X_test:  '  + str(X_test_SVM.shape))\n",
        "print('Y_test:  '  + str(y_test_SVM.shape))"
      ],
      "metadata": {
        "colab": {
          "base_uri": "https://localhost:8080/"
        },
        "id": "kYHlMoB3Uvf-",
        "outputId": "94a4e609-1825-4edb-bf4a-5db30c42b81c"
      },
      "execution_count": null,
      "outputs": [
        {
          "output_type": "stream",
          "name": "stdout",
          "text": [
            "X_train: (112800, 28, 28)\n",
            "Y_train: (112800,)\n",
            "X_test:  (18800, 28, 28)\n",
            "Y_test:  (18800,)\n"
          ]
        }
      ]
    },
    {
      "cell_type": "markdown",
      "source": [
        "Based on the above display, y_train and y_test are 1-dimensional as they have only the labels.\n",
        "X_train and X_test are 3-dimensional as they a width and height (28x28 pixels) alongside the number of images (112800 and 18800 respectively."
      ],
      "metadata": {
        "id": "qlKCZuejXEXZ"
      }
    },
    {
      "cell_type": "code",
      "execution_count": null,
      "metadata": {
        "colab": {
          "base_uri": "https://localhost:8080/",
          "height": 261
        },
        "id": "VOlIWm-c1hZy",
        "outputId": "d44e38c1-eeb2-4bd0-bd8f-49a31b39e0b5"
      },
      "outputs": [
        {
          "output_type": "display_data",
          "data": {
            "text/plain": [
              "<Figure size 432x288 with 9 Axes>"
            ],
            "image/png": "[encoded data removed]"
          },
          "metadata": {
            "needs_background": "light"
          }
        }
      ],
      "source": [
        "for i in range(9):\n",
        "    ax = plt.subplot(3, 3, i+1)\n",
        "    ax.axis('off')\n",
        "    rand_id = np.random.randint(0, X_train.shape[0])\n",
        "    plt.imshow(X_train[rand_id], cmap='Greys')\n",
        "    plt.title(y_train[rand_id], y=-0.25)"
      ]
    },
    {
      "cell_type": "code",
      "source": [
        "# Reference: https://www.digitalocean.com/community/tutorials/mnist-dataset-in-python\n",
        "\n",
        "from matplotlib import pyplot\n",
        "\n",
        "for i in range(3):  \n",
        "    pyplot.subplot(330 + 1 + i)\n",
        "    pyplot.imshow(X_train[i], cmap=pyplot.get_cmap('gray'))\n",
        "    pyplot.show()"
      ],
      "metadata": {
        "colab": {
          "base_uri": "https://localhost:8080/",
          "height": 311
        },
        "id": "1iGNF_ulWNke",
        "outputId": "7c2bd153-7617-4f24-f0ff-8b498bb3ff36"
      },
      "execution_count": null,
      "outputs": [
        {
          "output_type": "display_data",
          "data": {
            "text/plain": [
              "<Figure size 432x288 with 1 Axes>"
            ],
            "image/png": "[encoded data removed]"
          },
          "metadata": {
            "needs_background": "light"
          }
        },
        {
          "output_type": "display_data",
          "data": {
            "text/plain": [
              "<Figure size 432x288 with 1 Axes>"
            ],
            "image/png": "[encoded data removed]"
          },
          "metadata": {
            "needs_background": "light"
          }
        },
        {
          "output_type": "display_data",
          "data": {
            "text/plain": [
              "<Figure size 432x288 with 1 Axes>"
            ],
            "image/png": "[encoded data removed]"
          },
          "metadata": {
            "needs_background": "light"
          }
        }
      ]
    },
    {
      "cell_type": "markdown",
      "source": [
        "## SVM Begins\n",
        "\n",
        "Normalize Data (between [0,1])"
      ],
      "metadata": {
        "id": "pEoyUjidW4bk"
      }
    },
    {
      "cell_type": "code",
      "source": [
        "X_train_SVM = X_train_SVM / 255.0\n",
        "X_test_SVM = X_test_SVM  / 255.0"
      ],
      "metadata": {
        "id": "24nmA0cwif1Y"
      },
      "execution_count": null,
      "outputs": []
    },
    {
      "cell_type": "markdown",
      "source": [
        "In order to use scikit-learn's fit functionality, we need to reshape X_train_SVM and X_test_SVM datasets to 2D instead of the 3D shape it is given in (num_samples,28,28).\n",
        "\n",
        "Therefore instead of having a 2D array for the width and height of each image, it will be changed to one long array of (28x28 = 784 pixels)."
      ],
      "metadata": {
        "id": "npHD7efrYEgI"
      }
    },
    {
      "cell_type": "code",
      "source": [
        "X_train_SVM = X_train_SVM.reshape(112800, 784)\n",
        "X_test_SVM = X_test_SVM.reshape(18800, 784)"
      ],
      "metadata": {
        "id": "hLC5H0a6ilLS"
      },
      "execution_count": null,
      "outputs": []
    },
    {
      "cell_type": "markdown",
      "source": [
        "Thanks to testing, a big realization was that this dataset is massive which means it is taking a LONG time to go through everything to process.\n",
        "\n",
        "Therefore, based on testing different number of elements to sample, we have decided that 10000 samples is adequate to get a decent accuracy and be done in a reasonable amount of time."
      ],
      "metadata": {
        "id": "Zh8WZvkRYycg"
      }
    },
    {
      "cell_type": "code",
      "source": [
        "X_train_SVM = X_train_SVM[:10000, :]\n",
        "y_train_SVM = y_train_SVM[:10000]\n",
        "X_test_SVM = X_test_SVM[:10000, :]\n",
        "y_test_SVM = y_test_SVM[:10000]"
      ],
      "metadata": {
        "id": "Rz67GRC0i0s_"
      },
      "execution_count": null,
      "outputs": []
    },
    {
      "cell_type": "code",
      "source": [
        "#check to ensure the number of samples has been adequately changed. Sometimes, due to jupyter notesbook's lagging, it does not change.\n",
        "\n",
        "X_train_SVM.shape"
      ],
      "metadata": {
        "colab": {
          "base_uri": "https://localhost:8080/"
        },
        "id": "opiUeBX2jFX5",
        "outputId": "0a5bf6a1-dbaf-474e-cc46-dada4bb571f7"
      },
      "execution_count": null,
      "outputs": [
        {
          "output_type": "execute_result",
          "data": {
            "text/plain": [
              "(10000, 784)"
            ]
          },
          "metadata": {},
          "execution_count": 16
        }
      ]
    },
    {
      "cell_type": "markdown",
      "source": [
        "# Create the support vector classification model and begin training\n",
        "\n",
        "The training takes approximately 21 seconds."
      ],
      "metadata": {
        "id": "OvjJyZXjZlV8"
      }
    },
    {
      "cell_type": "code",
      "source": [
        "#from sklearn import svm\n",
        "\n",
        "model = svm.SVC()\n",
        "model.fit(X_train_SVM, y_train_SVM)"
      ],
      "metadata": {
        "colab": {
          "base_uri": "https://localhost:8080/"
        },
        "id": "itB7Nbf3i-xQ",
        "outputId": "02ad736e-7292-4ea3-f1b3-ae00c5e31e9d"
      },
      "execution_count": null,
      "outputs": [
        {
          "output_type": "execute_result",
          "data": {
            "text/plain": [
              "SVC()"
            ]
          },
          "metadata": {},
          "execution_count": 17
        }
      ]
    },
    {
      "cell_type": "markdown",
      "source": [
        "#Test"
      ],
      "metadata": {
        "id": "iNDXVf-paAE6"
      }
    },
    {
      "cell_type": "code",
      "source": [
        "y_pred_SVM = model.predict(X_test_SVM)"
      ],
      "metadata": {
        "id": "EfFXPttCjJIb"
      },
      "execution_count": null,
      "outputs": []
    },
    {
      "cell_type": "code",
      "source": [
        "#from sklearn import metrics\n",
        "\n",
        "acc = metrics.accuracy_score(y_test_SVM, y_pred_SVM)\n",
        "print('\\n The Accuracy reported using the SVM model is: ', acc)"
      ],
      "metadata": {
        "colab": {
          "base_uri": "https://localhost:8080/"
        },
        "id": "1PrPVfFqjOzW",
        "outputId": "531a1617-dd50-4cb6-e783-a087bf4ccfc3"
      },
      "execution_count": null,
      "outputs": [
        {
          "output_type": "stream",
          "name": "stdout",
          "text": [
            "\n",
            " The Accuracy reported using the SVM model is:  0.7582\n"
          ]
        }
      ]
    },
    {
      "cell_type": "code",
      "source": [
        "#from sklearn.metrics import classification_report, confusion_matrix\n",
        "#from sklearn import metrics\n",
        "\n",
        "print(confusion_matrix(y_pred_SVM,y_test_SVM))\n",
        "print(classification_report(y_pred_SVM, y_test_SVM))"
      ],
      "metadata": {
        "colab": {
          "base_uri": "https://localhost:8080/"
        },
        "id": "gmE8snTK3hgJ",
        "outputId": "ea4d3a90-7b33-4f5e-d8d8-cb2c1de7bfb4"
      },
      "execution_count": null,
      "outputs": [
        {
          "output_type": "stream",
          "name": "stdout",
          "text": [
            "[[147   0   0 ...   0   0   0]\n",
            " [  0 146   0 ...   0   0   6]\n",
            " [  0   0 149 ...   0   0   0]\n",
            " ...\n",
            " [  0   0   1 ...  66   0   0]\n",
            " [  0   0   0 ...   1 191   7]\n",
            " [  0   0   0 ...   3   2 132]]\n",
            "              precision    recall  f1-score   support\n",
            "\n",
            "           0       0.67      0.58      0.62       254\n",
            "           1       0.66      0.47      0.55       311\n",
            "           2       0.71      0.80      0.75       186\n",
            "           3       0.92      0.89      0.90       221\n",
            "           4       0.79      0.71      0.75       220\n",
            "           5       0.66      0.82      0.74       165\n",
            "           6       0.83      0.85      0.84       219\n",
            "           7       0.90      0.90      0.90       220\n",
            "           8       0.75      0.74      0.74       220\n",
            "           9       0.85      0.56      0.68       318\n",
            "          10       0.81      0.83      0.82       200\n",
            "          11       0.83      0.79      0.81       227\n",
            "          12       0.87      0.84      0.85       228\n",
            "          13       0.79      0.81      0.80       207\n",
            "          14       0.84      0.85      0.85       199\n",
            "          15       0.50      0.54      0.52       189\n",
            "          16       0.77      0.87      0.82       186\n",
            "          17       0.79      0.84      0.82       206\n",
            "          18       0.54      0.54      0.54       216\n",
            "          19       0.83      0.72      0.77       245\n",
            "          20       0.84      0.77      0.80       226\n",
            "          21       0.34      0.53      0.41       131\n",
            "          22       0.85      0.80      0.82       216\n",
            "          23       0.83      0.80      0.81       233\n",
            "          24       0.60      0.64      0.62       212\n",
            "          25       0.90      0.83      0.86       223\n",
            "          26       0.80      0.77      0.79       217\n",
            "          27       0.75      0.85      0.80       193\n",
            "          28       0.81      0.78      0.79       210\n",
            "          29       0.86      0.84      0.85       212\n",
            "          30       0.87      0.82      0.84       219\n",
            "          31       0.86      0.84      0.85       219\n",
            "          32       0.91      0.89      0.90       213\n",
            "          33       0.83      0.82      0.83       209\n",
            "          34       0.67      0.75      0.71       190\n",
            "          35       0.81      0.79      0.80       215\n",
            "          36       0.77      0.71      0.74       224\n",
            "          37       0.85      0.82      0.83       229\n",
            "          38       0.89      0.85      0.87       236\n",
            "          39       0.87      0.87      0.87       201\n",
            "          40       0.57      0.56      0.56       216\n",
            "          41       0.39      0.61      0.48       152\n",
            "          42       0.82      0.87      0.85       201\n",
            "          43       0.79      0.86      0.83       220\n",
            "          44       0.32      0.51      0.40       129\n",
            "          45       0.88      0.79      0.83       242\n",
            "          46       0.66      0.75      0.70       175\n",
            "\n",
            "    accuracy                           0.76     10000\n",
            "   macro avg       0.76      0.76      0.76     10000\n",
            "weighted avg       0.77      0.76      0.76     10000\n",
            "\n"
          ]
        }
      ]
    },
    {
      "cell_type": "markdown",
      "source": [
        "#Sequential Model"
      ],
      "metadata": {
        "id": "4yd3Ar4acPr7"
      }
    },
    {
      "cell_type": "markdown",
      "metadata": {
        "id": "kIr8nVwt2fFf"
      },
      "source": [
        "Please note the data has been inputted and explored in the beginning.\n",
        "\n",
        "Normalizing data (between [0,1])"
      ]
    },
    {
      "cell_type": "code",
      "source": [
        "X_train = X_train.astype(np.float32)/255\n",
        "X_test = X_test.astype(np.float32)/255"
      ],
      "metadata": {
        "id": "kNmkt79PGbkW"
      },
      "execution_count": 43,
      "outputs": []
    },
    {
      "cell_type": "markdown",
      "source": [
        "Expand to image dimensions to 3 dimenions of 28x28x1. The algorithm that will be used takes in 3 dimensions not 2.\n",
        "\n",
        "In the SVM model, np.reshape was used however here np.expand_dims is being utilized. Both are equivalent."
      ],
      "metadata": {
        "id": "5mzdG9ooGkhI"
      }
    },
    {
      "cell_type": "code",
      "execution_count": 44,
      "metadata": {
        "id": "CrShoxTa2hrq"
      },
      "outputs": [],
      "source": [
        "X_train = np.expand_dims(X_train,-1)\n",
        "X_test = np.expand_dims(X_test,-1)"
      ]
    },
    {
      "cell_type": "markdown",
      "source": [
        "Check to see if it has been changed to 4D"
      ],
      "metadata": {
        "id": "mPk_6zbwG0FU"
      }
    },
    {
      "cell_type": "code",
      "source": [
        "X_train.shape"
      ],
      "metadata": {
        "colab": {
          "base_uri": "https://localhost:8080/"
        },
        "id": "5fqUuN69GwWw",
        "outputId": "5230238d-6259-4543-e97f-914a9a96d929"
      },
      "execution_count": 45,
      "outputs": [
        {
          "output_type": "execute_result",
          "data": {
            "text/plain": [
              "(112800, 28, 28, 1)"
            ]
          },
          "metadata": {},
          "execution_count": 45
        }
      ]
    },
    {
      "cell_type": "markdown",
      "source": [
        "Convert the classes to one hot vector. So whenever there is a value, that location will have a one and the rest will be zero. It is a way of ensuring that the Machine Learning algorithm does not think that the higher the number, the greater its importance."
      ],
      "metadata": {
        "id": "vy9rPOnsHaZj"
      }
    },
    {
      "cell_type": "code",
      "execution_count": 46,
      "metadata": {
        "id": "fO8mcpm-4D-T"
      },
      "outputs": [],
      "source": [
        "y_train = keras.utils.to_categorical(y_train)\n",
        "y_test = keras.utils.to_categorical(y_test)"
      ]
    },
    {
      "cell_type": "markdown",
      "source": [
        "## Create the Sequential Model"
      ],
      "metadata": {
        "id": "6EpAB5mxlU_A"
      }
    },
    {
      "cell_type": "code",
      "source": [
        "model = Sequential()"
      ],
      "metadata": {
        "id": "Ua5wkKk2IE--"
      },
      "execution_count": 47,
      "outputs": []
    },
    {
      "cell_type": "markdown",
      "source": [
        "Convolution\n",
        "\n",
        "Reference: https://medium.com/@cdabakoglu/what-is-convolutional-neural-network-cnn-with-keras-cab447ad204c\n",
        "\n",
        "Reference: https://stackoverflow.com/questions/36946671/keras-model-summary-result-understanding-the-of-parameters"
      ],
      "metadata": {
        "id": "twmf87nym_lD"
      }
    },
    {
      "cell_type": "code",
      "execution_count": 48,
      "metadata": {
        "id": "gX2G3atL5JSn"
      },
      "outputs": [],
      "source": [
        "# add different layers\n",
        "#add the input layer starting with Conv2D \n",
        "#32 number of units, kernel size is 3x3, input shape of the image, activation being used is relu \n",
        "\n",
        "model.add(Conv2D(32, (3,3), input_shape = (28, 28, 1), activation= 'relu'))\n",
        "model.add(MaxPool2D((2,2)))\n",
        "\n",
        "#add another convlution layers - increase size to 64 units\n",
        "model.add(Conv2D(64, (3,3), input_shape = (28, 28, 1), activation= 'relu'))\n",
        "model.add(MaxPool2D((2,2)))\n",
        "\n",
        "model.add(Flatten())\n",
        "\n"
      ]
    },
    {
      "cell_type": "markdown",
      "source": [
        "Prevent Overfitting (25% drop)"
      ],
      "metadata": {
        "id": "S831o4qVmRJK"
      }
    },
    {
      "cell_type": "code",
      "source": [
        "model.add(Dropout(0.25))"
      ],
      "metadata": {
        "id": "cISdQPW-mPq-"
      },
      "execution_count": 49,
      "outputs": []
    },
    {
      "cell_type": "markdown",
      "source": [
        "Number of classes is 47 and the activation is softmax."
      ],
      "metadata": {
        "id": "ZRvdUlQHmdy1"
      }
    },
    {
      "cell_type": "code",
      "source": [
        "model.add(Dense(47, activation= \"softmax\"))"
      ],
      "metadata": {
        "id": "vz5PlLCwmbuA"
      },
      "execution_count": 50,
      "outputs": []
    },
    {
      "cell_type": "code",
      "execution_count": 51,
      "metadata": {
        "colab": {
          "base_uri": "https://localhost:8080/"
        },
        "id": "N1W9Bc3R6s-V",
        "outputId": "c635d8c9-2e30-4c9e-c44c-a17908a983ec"
      },
      "outputs": [
        {
          "output_type": "stream",
          "name": "stdout",
          "text": [
            "Model: \"sequential_1\"\n",
            "_________________________________________________________________\n",
            " Layer (type)                Output Shape              Param #   \n",
            "=================================================================\n",
            " conv2d_2 (Conv2D)           (None, 26, 26, 32)        320       \n",
            "                                                                 \n",
            " max_pooling2d_2 (MaxPooling  (None, 13, 13, 32)       0         \n",
            " 2D)                                                             \n",
            "                                                                 \n",
            " conv2d_3 (Conv2D)           (None, 11, 11, 64)        18496     \n",
            "                                                                 \n",
            " max_pooling2d_3 (MaxPooling  (None, 5, 5, 64)         0         \n",
            " 2D)                                                             \n",
            "                                                                 \n",
            " flatten_1 (Flatten)         (None, 1600)              0         \n",
            "                                                                 \n",
            " dropout_1 (Dropout)         (None, 1600)              0         \n",
            "                                                                 \n",
            " dense_1 (Dense)             (None, 47)                75247     \n",
            "                                                                 \n",
            "=================================================================\n",
            "Total params: 94,063\n",
            "Trainable params: 94,063\n",
            "Non-trainable params: 0\n",
            "_________________________________________________________________\n"
          ]
        }
      ],
      "source": [
        "model.summary()"
      ]
    },
    {
      "cell_type": "markdown",
      "source": [
        "Reference: https://www.tensorflow.org/api_docs/python/tf/keras/Model#compile"
      ],
      "metadata": {
        "id": "YhLp-LWgoQ7J"
      }
    },
    {
      "cell_type": "code",
      "execution_count": 52,
      "metadata": {
        "id": "f49mDaJI69GE"
      },
      "outputs": [],
      "source": [
        "model.compile(optimizer= 'adam', loss= keras.losses.categorical_crossentropy, metrics = ['accuracy'])"
      ]
    },
    {
      "cell_type": "code",
      "execution_count": 53,
      "metadata": {
        "id": "L6b1Gqt57ZfX"
      },
      "outputs": [],
      "source": [
        "# Callbacks\n",
        "\n",
        "from keras.callbacks import EarlyStopping, ModelCheckpoint\n",
        "\n",
        "# Earlystopping - monitors validation accuracy, 4 trials\n",
        "\n",
        "es = EarlyStopping(monitor= 'val_acc', min_delta= 0.01, patience= 4, verbose= 1)\n",
        "\n",
        "#Model Checkpoint - file path\n",
        "\n",
        "mc = ModelCheckpoint(\"./bestmodel.h5\", monitor= \"val_acc\", verbose= 1, save_best_only = True)\n",
        "\n",
        "cb = [es,mc]"
      ]
    },
    {
      "cell_type": "markdown",
      "metadata": {
        "id": "jYzE2Pyi8vfN"
      },
      "source": [
        "## Model Training"
      ]
    },
    {
      "cell_type": "code",
      "execution_count": 54,
      "metadata": {
        "colab": {
          "base_uri": "https://localhost:8080/"
        },
        "id": "eJzF2GUd8yKb",
        "outputId": "58ab33f1-081b-45b7-f4d0-255cbdbd2cdb"
      },
      "outputs": [
        {
          "output_type": "stream",
          "name": "stdout",
          "text": [
            "Epoch 1/2\n",
            "2468/2468 [==============================] - 104s 42ms/step - loss: 0.8248 - accuracy: 0.7499 - val_loss: 0.5108 - val_accuracy: 0.8347\n",
            "Epoch 2/2\n",
            "2468/2468 [==============================] - 88s 35ms/step - loss: 0.5016 - accuracy: 0.8362 - val_loss: 0.4430 - val_accuracy: 0.8500\n"
          ]
        }
      ],
      "source": [
        "his = model.fit(X_train, y_train, epochs= 2, validation_split= 0.3)"
      ]
    },
    {
      "cell_type": "code",
      "source": [
        "y_pred_Seq= model.predict(X_test)\n",
        "\n",
        "print(y_pred_Seq)\n",
        "\n",
        "y_pred_Seq = np.argmax(y_pred_Seq, axis=1)\n",
        "y_test = np.argmax(y_test, axis=1)\n",
        "print(y_pred_Seq)\n"
      ],
      "metadata": {
        "colab": {
          "base_uri": "https://localhost:8080/"
        },
        "id": "MVbkBpW78xYL",
        "outputId": "1f836dfc-6001-4a19-f796-4422ef629e8e"
      },
      "execution_count": 76,
      "outputs": [
        {
          "output_type": "stream",
          "name": "stdout",
          "text": [
            "588/588 [==============================] - 6s 10ms/step\n",
            "[[4.11559624e-04 1.33092626e-05 2.97440147e-05 ... 1.90055859e-03\n",
            "  1.43528238e-08 9.11033931e-06]\n",
            " [8.69468204e-06 2.41674097e-10 3.11980398e-06 ... 7.05334969e-05\n",
            "  2.06293969e-08 9.71259215e-05]\n",
            " [3.69828541e-07 7.15793874e-07 9.74917839e-07 ... 1.22341596e-01\n",
            "  3.18566435e-08 3.53047710e-07]\n",
            " ...\n",
            " [1.53323799e-05 5.10722756e-01 1.57313509e-04 ... 1.18842151e-03\n",
            "  5.00668946e-04 7.82222953e-03]\n",
            " [1.15222656e-05 2.34398248e-13 4.50707012e-06 ... 5.32098929e-04\n",
            "  1.39468603e-09 4.75828101e-12]\n",
            " [9.83318500e-07 2.09007994e-03 2.20963062e-04 ... 2.25319015e-03\n",
            "  6.59081154e-03 1.33434997e-03]]\n",
            "[41 39  9 ...  1 26 33]\n"
          ]
        }
      ]
    },
    {
      "cell_type": "code",
      "source": [
        "print(confusion_matrix(y_pred_Seq,y_test))\n",
        "print(classification_report(y_pred_Seq, y_test))"
      ],
      "metadata": {
        "colab": {
          "base_uri": "https://localhost:8080/"
        },
        "id": "vxlgZXMvEZq1",
        "outputId": "85a9b54b-78f2-4bdd-8b1f-4ee6917ede77"
      },
      "execution_count": 77,
      "outputs": [
        {
          "output_type": "stream",
          "name": "stdout",
          "text": [
            "[[347   0   0 ...   2   0   0]\n",
            " [  0 237   0 ...   0   0   0]\n",
            " [  0   0 316 ...   1   0   0]\n",
            " ...\n",
            " [  0   0   2 ... 205   0   0]\n",
            " [  0   0   0 ...   0 370   5]\n",
            " [  0   0   0 ...   2   1 349]]\n",
            "              precision    recall  f1-score   support\n",
            "\n",
            "           0       0.87      0.55      0.67       629\n",
            "           1       0.59      0.56      0.58       422\n",
            "           2       0.79      0.92      0.85       345\n",
            "           3       0.95      0.98      0.96       388\n",
            "           4       0.87      0.90      0.89       388\n",
            "           5       0.85      0.92      0.89       369\n",
            "           6       0.94      0.91      0.92       409\n",
            "           7       0.98      0.92      0.95       426\n",
            "           8       0.89      0.90      0.89       394\n",
            "           9       0.86      0.63      0.73       545\n",
            "          10       0.93      0.92      0.92       407\n",
            "          11       0.92      0.92      0.92       400\n",
            "          12       0.95      0.93      0.94       411\n",
            "          13       0.85      0.90      0.87       375\n",
            "          14       0.97      0.96      0.96       403\n",
            "          15       0.45      0.77      0.57       233\n",
            "          16       0.91      0.91      0.91       398\n",
            "          17       0.91      0.96      0.94       378\n",
            "          18       0.71      0.55      0.62       516\n",
            "          19       0.91      0.86      0.88       421\n",
            "          20       0.93      0.95      0.94       391\n",
            "          21       0.44      0.55      0.49       319\n",
            "          22       0.96      0.91      0.94       421\n",
            "          23       0.91      0.93      0.92       393\n",
            "          24       0.41      0.75      0.53       219\n",
            "          25       0.95      0.92      0.94       413\n",
            "          26       0.89      0.94      0.91       377\n",
            "          27       0.95      0.92      0.93       416\n",
            "          28       0.90      0.85      0.87       423\n",
            "          29       0.91      0.92      0.91       394\n",
            "          30       0.94      0.86      0.89       437\n",
            "          31       0.86      0.92      0.89       372\n",
            "          32       0.97      0.97      0.97       398\n",
            "          33       0.93      0.95      0.94       392\n",
            "          34       0.82      0.91      0.86       360\n",
            "          35       0.94      0.80      0.87       468\n",
            "          36       0.83      0.86      0.85       386\n",
            "          37       0.90      0.92      0.91       390\n",
            "          38       0.96      0.93      0.94       414\n",
            "          39       0.95      0.95      0.95       400\n",
            "          40       0.77      0.59      0.67       522\n",
            "          41       0.54      0.74      0.62       291\n",
            "          42       0.91      0.93      0.92       391\n",
            "          43       0.91      0.89      0.90       407\n",
            "          44       0.51      0.63      0.57       324\n",
            "          45       0.93      0.89      0.91       415\n",
            "          46       0.87      0.85      0.86       410\n",
            "\n",
            "    accuracy                           0.85     18800\n",
            "   macro avg       0.85      0.85      0.85     18800\n",
            "weighted avg       0.86      0.85      0.85     18800\n",
            "\n"
          ]
        }
      ]
    },
    {
      "cell_type": "markdown",
      "metadata": {
        "id": "FvkkmhAwhBJQ"
      },
      "source": [
        "The [Wine Quality](https://archive.ics.uci.edu/ml/datasets/wine+quality) dataset consists of a set of 11 input parameters (acidity, sugar content, alcohol level, etc) and a single output (\"quality\" as assessed by expert tasters). The white wine dataset, with a total of 4898 samples, is selected for this problem.\n",
        "\n",
        "While the wine quality dataset is smaller with fewer inputs than the MNIST datasets, there are a number of challenges to overcome:\n",
        "- Not all inputs are necessarily relevant, and some may be correlated. Part of your experimentation should be determining which inputs to use.\n",
        "- The dataset is not pre-split into test/train/validation sets.\n",
        "- The input parameters are not on the same scale, so they require preprocessing.\n",
        "- The output classes are unbalanced. You will have to address this through appropriate choice of loss metric or resampling.\n",
        "- The output can be treated as either a regression problem (predict a continuous value from 0 to 9) or as a classification problem. "
      ]
    },
    {
      "cell_type": "markdown",
      "metadata": {
        "id": "BKFp7nkExndS"
      },
      "source": [
        "### Import Dependencies and Librares\n",
        "\n",
        "---\n",
        "\n"
      ]
    },
    {
      "cell_type": "code",
      "execution_count": null,
      "metadata": {
        "id": "eZpZc0TLxndS"
      },
      "outputs": [],
      "source": [
        "import sys\n",
        "import numpy as np\n",
        "import pandas as pd\n",
        "import sklearn\n",
        "import seaborn as sns"
      ]
    },
    {
      "cell_type": "markdown",
      "metadata": {
        "id": "6O5DD6prxndT"
      },
      "source": [
        "### Load Dataset and Understanding Data Structure"
      ]
    },
    {
      "cell_type": "code",
      "execution_count": null,
      "metadata": {
        "id": "t3NuUU6MxndT"
      },
      "outputs": [],
      "source": [
        "whiteWineCsv = 'https://archive.ics.uci.edu/ml/machine-learning-databases/wine-quality/winequality-white.csv'\n",
        "wineData = pd.read_csv(whiteWineCsv, sep=';')\n",
        "wineData.head()"
      ]
    },
    {
      "cell_type": "code",
      "execution_count": null,
      "metadata": {
        "id": "_SKolugVxndT"
      },
      "outputs": [],
      "source": [
        "wineData.info()"
      ]
    },
    {
      "cell_type": "markdown",
      "metadata": {
        "id": "KJbH0ZY26L0h"
      },
      "source": [
        "###Data Analysis"
      ]
    },
    {
      "cell_type": "markdown",
      "metadata": {
        "id": "cQMK_rBd6bqU"
      },
      "source": [
        "Descriptive statistics and summary of each column"
      ]
    },
    {
      "cell_type": "code",
      "execution_count": null,
      "metadata": {
        "id": "IMK92yt70KDf"
      },
      "outputs": [],
      "source": [
        "wineData.describe()"
      ]
    },
    {
      "cell_type": "markdown",
      "metadata": {
        "id": "3im6p2dy4l4v"
      },
      "source": [
        "Count the null values on each column to see if there are rows that needs to be replaced or removed"
      ]
    },
    {
      "cell_type": "code",
      "execution_count": null,
      "metadata": {
        "id": "0RAcidwgWsVl"
      },
      "outputs": [],
      "source": [
        "wineData.isna().sum()"
      ]
    },
    {
      "cell_type": "markdown",
      "metadata": {
        "id": "6CKfyAMl8ECi"
      },
      "source": [
        "Compute the pairwise correlation between the columns to get a better understanding which columns are relevant"
      ]
    },
    {
      "cell_type": "code",
      "execution_count": null,
      "metadata": {
        "id": "1mDOiDTPZnZK"
      },
      "outputs": [],
      "source": [
        "corr = wineData.corr()\n",
        "sns.heatmap(corr)"
      ]
    },
    {
      "cell_type": "markdown",
      "metadata": {
        "id": "i0mfC4kO8y0m"
      },
      "source": [
        "Count the occurance of each value in the quality column"
      ]
    },
    {
      "cell_type": "code",
      "execution_count": null,
      "metadata": {
        "id": "SLDPma4wfXrl"
      },
      "outputs": [],
      "source": [
        "wineData.quality.value_counts()"
      ]
    },
    {
      "cell_type": "markdown",
      "metadata": {
        "id": "ejLa9ZP79DJZ"
      },
      "source": [
        "The previous line of code gave us an insight that the column for quality is in the range of 3-9. With 6 as the most reoccuring value and 9 with the least. Now we can check the mean of each column for each value on the column."
      ]
    },
    {
      "cell_type": "code",
      "execution_count": null,
      "metadata": {
        "id": "og81cHewexC9"
      },
      "outputs": [],
      "source": [
        "wineData.groupby('quality').mean()"
      ]
    },
    {
      "cell_type": "markdown",
      "metadata": {
        "id": "2DE943FR99Ik"
      },
      "source": [
        "### Data Visualization\n"
      ]
    },
    {
      "cell_type": "code",
      "execution_count": null,
      "metadata": {
        "id": "A3TYCAE_0sEq"
      },
      "outputs": [],
      "source": [
        "import matplotlib.pyplot as plt\n",
        "\n",
        "sns.countplot(x='quality', data=wineData)"
      ]
    },
    {
      "cell_type": "markdown",
      "metadata": {
        "id": "nQlTO3shijxn"
      },
      "source": [
        "### Histograms/BoxPlots/DensityPlot.\n",
        "We plot each features in different ways to get a better understanding of the data we are working with. Histograms allows us to see the probabilistic distribution of each features. The box plots on the other hand helps us identify the skewness, data symmetry and outliers in our data set.\n"
      ]
    },
    {
      "cell_type": "code",
      "execution_count": null,
      "metadata": {
        "id": "CiOKaoY3iObM"
      },
      "outputs": [],
      "source": [
        "plt.rc('font', size=14)\n",
        "plt.rc('axes', labelsize=14, titlesize=14)\n",
        "plt.rc('legend', fontsize=14)\n",
        "plt.rc('xtick', labelsize=10)\n",
        "plt.rc('ytick', labelsize=10)\n",
        "\n",
        "wineData.hist(bins=50, figsize=(15, 15))\n",
        "plt.show()"
      ]
    },
    {
      "cell_type": "code",
      "execution_count": null,
      "metadata": {
        "id": "KzHW3blol31v"
      },
      "outputs": [],
      "source": [
        "wineData.plot(kind = 'box', subplots=True, layout=(4,3), sharex=False, figsize=(15,15))"
      ]
    },
    {
      "cell_type": "code",
      "execution_count": null,
      "metadata": {
        "id": "nl5_IDaameHO"
      },
      "outputs": [],
      "source": [
        "wineData.plot(kind='density', subplots=True, layout=(4,3), sharex=False, figsize=(15,15))"
      ]
    },
    {
      "cell_type": "markdown",
      "metadata": {
        "id": "clLIOivgpbGR"
      },
      "source": [
        "###Correlation between each features\n",
        "\n",
        "Previously we saw the correlation between each features through the heat map. We want to see it visually by plotting them in pair plots."
      ]
    },
    {
      "cell_type": "code",
      "execution_count": null,
      "metadata": {
        "id": "410y-WACp_9i"
      },
      "outputs": [],
      "source": [
        "sns.pairplot(wineData)"
      ]
    },
    {
      "cell_type": "markdown",
      "metadata": {
        "id": "iaqh_kP9q32S"
      },
      "source": [
        "###Violin Plot\n",
        "From our heat map and pair plot, the features that have the highest correlation to quality are: alcohol, ph, sulphur dioxide, citric acids, and sulphates. The violin plot helps us visualize the distribution of these values against each quality level."
      ]
    },
    {
      "cell_type": "code",
      "execution_count": null,
      "metadata": {
        "id": "d8LCTIZaS_j8"
      },
      "outputs": [],
      "source": [
        "sns.violinplot(x='quality', y='alcohol', data=wineData)"
      ]
    },
    {
      "cell_type": "code",
      "execution_count": null,
      "metadata": {
        "id": "Qj6igB6bTMF8"
      },
      "outputs": [],
      "source": [
        "sns.violinplot(x='quality', y='pH', data=wineData)"
      ]
    },
    {
      "cell_type": "code",
      "execution_count": null,
      "metadata": {
        "id": "9QDMasG0TY6M"
      },
      "outputs": [],
      "source": [
        "sns.violinplot(x='quality', y='citric acid', data=wineData)"
      ]
    },
    {
      "cell_type": "markdown",
      "metadata": {
        "id": "-XWIzMBTT4pt"
      },
      "source": [
        "###Feature Engineering\n",
        "\n",
        "Rather than having the quality of the wine to be a range of 3-9, We've chosen to bin the data and label the feature as:\n",
        "  bad: 3-4\n",
        "  medium: 5-7\n",
        "  good: 8-9"
      ]
    },
    {
      "cell_type": "code",
      "execution_count": null,
      "metadata": {
        "id": "tUJP_CWyT4a2"
      },
      "outputs": [],
      "source": [
        "wineData['wine quality'] = ['Bad' if x<=5 else 'Medium' if (x<=7 and x>5) else 'Good' for x in wineData['quality']]\n",
        "wineData.head()\n",
        "wineData['wine quality'].value_counts()"
      ]
    },
    {
      "cell_type": "markdown",
      "metadata": {
        "id": "lTcMeYiXAniZ"
      },
      "source": [
        "###Hyperparameter tuning (OPTIONAL)\n",
        "\n",
        " Finding which parameters are the best for the model"
      ]
    },
    {
      "cell_type": "code",
      "execution_count": null,
      "metadata": {
        "id": "rZgtqXI-fNY7"
      },
      "outputs": [],
      "source": [
        "from sklearn.ensemble import RandomForestClassifier\n",
        "from sklearn.model_selection import GridSearchCV\n",
        "from sklearn.model_selection import RandomizedSearchCV\n",
        "# Number of trees in random forest\n",
        "n_estimators = [int(x) for x in np.linspace(start = 200, stop = 2000, num = 10)]\n",
        "# Number of features to consider at every split\n",
        "max_features = ['auto', 'sqrt']\n",
        "# Maximum number of levels in tree\n",
        "max_depth = [int(x) for x in np.linspace(10, 110, num = 11)]\n",
        "max_depth.append(None)\n",
        "# Minimum number of samples required to split a node\n",
        "min_samples_split = [2, 5, 10]\n",
        "# Minimum number of samples required at each leaf node\n",
        "min_samples_leaf = [1, 2, 4]\n",
        "# Method of selecting samples for training each tree\n",
        "bootstrap = [True, False]\n",
        "\n",
        "random_grid = {'n_estimators': n_estimators,\n",
        "               'max_features': max_features,\n",
        "               'max_depth': max_depth,\n",
        "               'min_samples_split': min_samples_split,\n",
        "               'min_samples_leaf': min_samples_leaf,\n",
        "               'bootstrap': bootstrap}\n",
        "\n",
        "y = wineData['wine quality']\n",
        "                 \n",
        "X = wineData.drop(columns=['wine quality', 'quality','density','chlorides'])\n",
        "\n",
        "from sklearn.model_selection import train_test_split\n",
        "\n",
        "X_train, X_test, y_train, y_test = train_test_split(X, y, test_size=0.3)\n",
        "\n",
        "\n",
        "# Use the random grid to search for best hyperparameters\n",
        "# First create the base model to tune\n",
        "rf = RandomForestClassifier()\n",
        "# Random search of parameters, using 3 fold cross validation, \n",
        "# search across 100 different combinations, and use all available cores\n",
        "rf_random = RandomizedSearchCV(estimator = rf, param_distributions = random_grid, n_iter = 100, cv = 3, verbose=2, random_state=42, n_jobs = -1)\n",
        "# Fit the random search model\n",
        "rf_random.fit(X_train, y_train)\n",
        "\n",
        "print(rf_random.best_params_)"
      ]
    },
    {
      "cell_type": "code",
      "execution_count": null,
      "metadata": {
        "id": "G-vYcwz-m1On"
      },
      "outputs": [],
      "source": [
        "y_pred=rf_random.best_estimator_.predict(X_test)\n",
        "\n",
        "from sklearn import metrics\n",
        "# Model Accuracy, how often is the classifier correct?\n",
        "print(\"Accuracy:\",metrics.accuracy_score(y_test, y_pred))"
      ]
    },
    {
      "cell_type": "markdown",
      "metadata": {
        "id": "vj6oIbjkA3UI"
      },
      "source": [
        "### Splitting Data and normalizing the train and test data"
      ]
    },
    {
      "cell_type": "code",
      "execution_count": null,
      "metadata": {
        "id": "UGoJZFk7UcD4"
      },
      "outputs": [],
      "source": [
        "from sklearn import preprocessing\n",
        "from sklearn.model_selection import train_test_split\n",
        "from sklearn.ensemble import RandomForestClassifier\n",
        "\n",
        "y = wineData['wine quality']\n",
        "                 \n",
        "X = wineData.drop(columns=['wine quality', 'quality','density','chlorides'])\n",
        "X_train, X_test, y_train, y_test = train_test_split(X, y, test_size=0.3)\n",
        "\n",
        "\n",
        "#Normalize train and test data after splitting before giving the data to the classifier for training\n",
        "normalizer = preprocessing.Normalizer()\n",
        "normalized_X_train = normalizer.fit_transform(X_train)\n",
        "normalized_X_test = normalizer.transform(X_test)"
      ]
    },
    {
      "cell_type": "markdown",
      "metadata": {
        "id": "LXbGmMRqFzJr"
      },
      "source": [
        "## Training and Testing"
      ]
    },
    {
      "cell_type": "code",
      "execution_count": null,
      "metadata": {
        "id": "BQVMBHDYFqWJ"
      },
      "outputs": [],
      "source": [
        "#Create a Random Forest Classifier\n",
        "clf=RandomForestClassifier(n_estimators=1000, min_samples_split=2)\n",
        "\n",
        "clf.fit(X_train, y_train)\n",
        "\n",
        "y_pred=clf.predict(X_test)\n",
        "\n",
        "#Import scikit-learn metrics module for accuracy calculation\n",
        "from sklearn import metrics\n",
        "# Model Accuracy, how often is the classifier correct?\n",
        "print(\"Accuracy:\",metrics.accuracy_score(y_test, y_pred))"
      ]
    },
    {
      "cell_type": "markdown",
      "metadata": {
        "id": "jyqnpHSV_KV1"
      },
      "source": [
        "# REFLECTION"
      ]
    },
    {
      "cell_type": "markdown",
      "metadata": {
        "id": "TPOli4ZO_OLn"
      },
      "source": [
        "**Contribution statement**: Briefly explain the contribution of each member to the assignment.\n",
        "\n"
      ]
    },
    {
      "cell_type": "markdown",
      "metadata": {
        "id": "pdTTmI0b0UWZ"
      },
      "source": [
        "**Rutu:** Focused on coding, documenting and visualizing the EMNIST Dataset using the SVM model and the Sequential model. The bulk of the challenge for this dataset was to handle such data and ensure the training happened in a reasonal amount of time. For instance, the SVM model would have higher accuracy if I changed the sample size to >10000 however the time it would take to train the model would be unreasonable. Apart from the actual code, I also documented the SVM and Sequential Model algorithms.\n",
        "\n",
        "Note: I tried the EMNIST Dataset for both logistic regression and random forest before SVM, however logistic regression took overtly more time despite intense data cleaning and I was not able to get random forest running unfortunately.\n",
        "\n",
        "**Timothy:** mostly focused on data visualization, and understanding the data sets and coming up with a solution to process the data better. For example, the wine quality data set had number of features that were irrelevant to the problem; some of the features had to be disregarded. The output was also considered as a classification problem instead of a regression problem.\n",
        "\n",
        "**Emily:**"
      ]
    },
    {
      "cell_type": "markdown",
      "metadata": {
        "id": "peOdbhni_kMB"
      },
      "source": [
        "**Self assessment**: In your opinion, what are the deficiencies in your work that need to be improved?\n",
        "\n",
        "\n",
        "\n",
        "*   For the wine quality data set, one way we could improve is to do cross validation, that is choosing different parts of the data set as the test/train data. This will allow us to run our algorithm on different chunks of the original data set. \n",
        "*   One possible way of improving the results is trying out a lot more algorithms and see which ones will yield the greatest results. As discussed in class this could be done by using a cloud platform, using multiple Virtual Machines and running different algorithms in each. However as were limited in time and resources, doing so will be a challenge, but nonetheless its one way to improve the work.\n",
        "*   In Hyperparameter tuning, we used random search to find the best set of parameters available, howerver we used Random search rather than Grid search. If we want to find the best parameters available for the algorithm its better to use Grid search, however, it will take more time\n",
        "\n",
        "\n"
      ]
    },
    {
      "cell_type": "markdown",
      "metadata": {
        "id": "GecH2mA3CfRR"
      },
      "source": [
        "# MARKING RUBRIC\n"
      ]
    },
    {
      "cell_type": "markdown",
      "metadata": {
        "id": "DfJ3LwLZC-gh"
      },
      "source": [
        "\n",
        "The following table provides a summary of how your assignment will be marked. Your results will not be ranked against each other; what counts is reasonable choices and description of your thought processes.\n",
        "\n",
        "<table>\n",
        "<tr>\n",
        "<th>Item</th>\n",
        "<th>Points</th>\n",
        "</tr>\n",
        "\n",
        "<tr>\n",
        "<td>The training process for dataset 1</td>\n",
        "<td>20</td>\n",
        "</tr>\n",
        "\n",
        "<tr>\n",
        "<td>The training process for dataset 2</td>\n",
        "<td>20</td>\n",
        "</tr>\n",
        "\n",
        "<tr>\n",
        "<td>Documentation of the process and choices made </td>\n",
        "<td>20</td>\n",
        "</tr>\n",
        "\n",
        "<tr>\n",
        "<td>Overall code quality</td>\n",
        "<td>5</td>\n",
        "</tr>\n",
        "\n",
        "<tr>\n",
        "<td>Presentation</td>\n",
        "<td>30</td>\n",
        "</tr>\n",
        "\n",
        "<tr>\n",
        "<td>Reflection</td>\n",
        "<td>5</td>\n",
        "</tr>\n",
        "\n",
        "\n",
        "<tr>\n",
        "<td><b>Total:</b></td>\n",
        "<td><b>100</b></td>\n",
        "</tr>\n",
        "\n",
        "</table>"
      ]
    }
  ],
  "metadata": {
    "colab": {
      "collapsed_sections": [
        "kLJ6Ry43mEp7",
        "BKFp7nkExndS",
        "6O5DD6prxndT",
        "lTcMeYiXAniZ"
      ],
      "provenance": [],
      "include_colab_link": true
    },
    "kernelspec": {
      "display_name": "Python 3",
      "name": "python3"
    },
    "language_info": {
      "name": "python"
    }
  },
  "nbformat": 4,
  "nbformat_minor": 0
}